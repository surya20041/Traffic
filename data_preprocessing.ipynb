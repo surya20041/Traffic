{
 "cells": [
  {
   "cell_type": "code",
   "execution_count": 15,
   "metadata": {},
   "outputs": [],
   "source": [
    "import os\n",
    "import shutil"
   ]
  },
  {
   "cell_type": "code",
   "execution_count": 17,
   "metadata": {},
   "outputs": [],
   "source": [
    "DATA_ALL_DIR = r\"C:\\Users\\Sagar\\fiftyone\\open-images-v7\\train\\data\"\n",
    "\n",
    "DATA_OUT_DIR = r\"C:\\Users\\Sagar\\Python files_Jupiter\\Git Repo Local\\SIH traffic project\\data_temp-003\"\n",
    "\n",
    "for set_ in ['train', 'validation', 'test']:\n",
    "    for dir_ in [os.path.join(DATA_OUT_DIR, set_),\n",
    "                 os.path.join(DATA_OUT_DIR, set_, 'imgs'),\n",
    "                 os.path.join(DATA_OUT_DIR, set_, 'anns')]:\n",
    "        if os.path.exists(dir_):\n",
    "            shutil.rmtree(dir_)\n",
    "        os.mkdir(dir_)\n",
    "\n",
    "ids = [\n",
    "    \"/m/012n7d\",    #Ambulance\n",
    "    \"/m/0199g\",\t    #Bicycle\n",
    "    \"/m/01bjv\",\t    #Bus\n",
    "    \"/m/01pns0\",    #Fire hydrant\n",
    "    \"/m/04_sv\", \t#Motorcycle\n",
    "    \"/m/07r04\",\t    #Truck\n",
    "    \"/m/0f6nr\",\t    #Unicycle\n",
    "    \"/m/0h2r6\",\t    #Van\n",
    "    \"/m/0k4j\",\t\t#Car\n",
    "    \"/m/0pg52\",\t    #Taxi\n",
    "]\n",
    "\n",
    "index = {\n",
    "    \"/m/012n7d\":0,      #Ambulance\n",
    "    \"/m/0199g\":1,\t    #Bicycle\n",
    "    \"/m/01bjv\":2,\t    #Bus\n",
    "    \"/m/01pns0\":3,      #Fire hydrant\n",
    "    \"/m/04_sv\":4, \t    #Motorcycle\n",
    "    \"/m/07r04\":5,\t    #Truck\n",
    "    \"/m/0f6nr\":6,\t    #Unicycle\n",
    "    \"/m/0h2r6\":7,\t    #Van\n",
    "    \"/m/0k4j\":8,\t\t#Car\n",
    "    \"/m/0pg52\":9,\t    #Taxi\n",
    "}\n",
    "\n",
    "train_bboxes_filename = r\"C:\\Users\\Sagar\\fiftyone\\open-images-v7\\train\\labels\\detections.csv\""
   ]
  },
  {
   "cell_type": "code",
   "execution_count": 18,
   "metadata": {},
   "outputs": [
    {
     "name": "stdout",
     "output_type": "stream",
     "text": [
      "C:\\Users\\Sagar\\fiftyone\\open-images-v7\\train\\labels\\detections.csv\n",
      "0:447,1:8,2:0,3:0,4:7,5:49,6:0,7:261,8:64,9:1\r"
     ]
    }
   ],
   "source": [
    "count=[\n",
    "    0,0,0,0,0,0,0,0,0,0,\n",
    "]\n",
    "\n",
    "for j, filename in enumerate([train_bboxes_filename]):\n",
    "    set_ = ['train', 'validation', 'test'][j]\n",
    "    print(filename)\n",
    "    with open(filename, 'r') as f:\n",
    "        line = f.readline()\n",
    "        counter=0\n",
    "        while len(line) != 0:\n",
    "            id, _, class_name, _, x1, x2, y1, y2, _, _, _, _, _ = line.split(',')[:13]\n",
    "            if (class_name in ids) and os.path.exists(os.path.join(DATA_ALL_DIR, '{}.jpg'.format(id))):\n",
    "                if (not os.path.exists(os.path.join(DATA_OUT_DIR, set_, 'imgs', '{}.jpg'.format(id)))) and os.path.exists(os.path.join(DATA_ALL_DIR, '{}.jpg'.format(id))):\n",
    "                    shutil.copy(os.path.join(DATA_ALL_DIR, '{}.jpg'.format(id)),\n",
    "                                os.path.join(DATA_OUT_DIR, set_, 'imgs', '{}.jpg'.format(id)))\n",
    "                with open(os.path.join(DATA_OUT_DIR, set_, 'anns', '{}.txt'.format(id)), 'a') as f_ann:\n",
    "                    # class_id, xc, yx, w, h\n",
    "                    x1, x2, y1, y2 = [float(j) for j in [x1, x2, y1, y2]]\n",
    "                    xc = (x1 + x2) / 2\n",
    "                    yc = (y1 + y2) / 2\n",
    "                    w = x2 - x1\n",
    "                    h = y2 - y1\n",
    "\n",
    "                    count[index[class_name]]+=1\n",
    "\n",
    "                    f_ann.write('{} {} {} {} {}\\n'.format(index[class_name],xc, yc, w, h))\n",
    "                    f_ann.close()\n",
    "\n",
    "            line = f.readline()\n",
    "            counter+=1\n",
    "            if(counter%1000==0 or len(line)==0):\n",
    "                print(f\"0:{count[0]},1:{count[1]},2:{count[2]},3:{count[3]},4:{count[4]},5:{count[5]},6:{count[6]},7:{count[7]},8:{count[8]},9:{count[9]}\", end=\"\\r\")"
   ]
  },
  {
   "cell_type": "code",
   "execution_count": null,
   "metadata": {},
   "outputs": [],
   "source": []
  }
 ],
 "metadata": {
  "kernelspec": {
   "display_name": "py39",
   "language": "python",
   "name": "python3"
  },
  "language_info": {
   "codemirror_mode": {
    "name": "ipython",
    "version": 3
   },
   "file_extension": ".py",
   "mimetype": "text/x-python",
   "name": "python",
   "nbconvert_exporter": "python",
   "pygments_lexer": "ipython3",
   "version": "3.9.17"
  },
  "orig_nbformat": 4
 },
 "nbformat": 4,
 "nbformat_minor": 2
}
